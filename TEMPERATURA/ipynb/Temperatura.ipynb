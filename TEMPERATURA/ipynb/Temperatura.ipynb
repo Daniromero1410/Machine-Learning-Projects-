{
  "nbformat": 4,
  "nbformat_minor": 0,
  "metadata": {
    "colab": {
      "provenance": []
    },
    "kernelspec": {
      "name": "python3",
      "display_name": "Python 3"
    },
    "language_info": {
      "name": "python"
    }
  },
  "cells": [
    {
      "cell_type": "code",
      "execution_count": 1,
      "metadata": {
        "id": "WVF_g-LW8c8G"
      },
      "outputs": [],
      "source": [
        "import tensorflow as tf\n",
        "import numpy as np\n"
      ]
    },
    {
      "cell_type": "code",
      "source": [
        "celsius = np.array([-40,-10,0,8,15,22,38],dtype=float)\n",
        "fahrenheit = np.array([-40,14,32,46,59,72,100], dtype=float)\n",
        "\n"
      ],
      "metadata": {
        "id": "5GCNa7Fg8pt2"
      },
      "execution_count": 2,
      "outputs": []
    },
    {
      "cell_type": "code",
      "source": [
        "#capa = tf.keras.layers.Dense(units=1, input_shape=[1])\n",
        "#modelo = tf.keras.Sequential([capa])\n",
        "\n",
        "oculta1=tf.keras.layers.Dense(units=3,input_shape=[1])\n",
        "oculta2=tf.keras.layers.Dense(units=3)\n",
        "salida= tf.keras.layers.Dense(units=1)\n",
        "modelo= tf.keras.Sequential([oculta1,oculta2,salida])"
      ],
      "metadata": {
        "id": "fu9iXtKu9JcD"
      },
      "execution_count": 13,
      "outputs": []
    },
    {
      "cell_type": "code",
      "source": [
        "modelo.compile(\n",
        "    optimizer= tf.keras.optimizers.Adam(0.1),\n",
        "    loss=\"mean_squared_error\"\n",
        ")"
      ],
      "metadata": {
        "id": "O8JT_gOp9eNp"
      },
      "execution_count": 14,
      "outputs": []
    },
    {
      "cell_type": "code",
      "source": [
        "print(\"Training....\")\n",
        "historia = modelo.fit(celsius, fahrenheit, epochs=1000, verbose= False)\n",
        "print(\"Model Prepare\")"
      ],
      "metadata": {
        "colab": {
          "base_uri": "https://localhost:8080/"
        },
        "id": "o7eTBjdn9uIY",
        "outputId": "8d0ddcdf-7969-4cf7-dd7a-3b6b0b187a7c"
      },
      "execution_count": 15,
      "outputs": [
        {
          "output_type": "stream",
          "name": "stdout",
          "text": [
            "Training....\n",
            "Model Prepare\n"
          ]
        }
      ]
    },
    {
      "cell_type": "code",
      "source": [
        "import matplotlib.pyplot as plt\n",
        "plt.xlabel(\"#Epoca\")\n",
        "plt.ylabel(\"Magnitud de perdida\")\n",
        "plt.plot(historia.history[\"loss\"])"
      ],
      "metadata": {
        "colab": {
          "base_uri": "https://localhost:8080/",
          "height": 466
        },
        "id": "XibC3kOl-QEx",
        "outputId": "5da7a1fa-ef44-43ee-fd00-18b6d8d43165"
      },
      "execution_count": 16,
      "outputs": [
        {
          "output_type": "execute_result",
          "data": {
            "text/plain": [
              "[<matplotlib.lines.Line2D at 0x7feb5600ba30>]"
            ]
          },
          "metadata": {},
          "execution_count": 16
        },
        {
          "output_type": "display_data",
          "data": {
            "text/plain": [
              "<Figure size 640x480 with 1 Axes>"
            ],
            "image/png": "[encoded data removed]"
          },
          "metadata": {}
        }
      ]
    },
    {
      "cell_type": "code",
      "source": [
        "print(\"Hagamos una prediccion\")\n",
        "resultado= modelo.predict([100.0])\n",
        "print(\"El resultado es \" + str(resultado) + \"fahrenheit\")"
      ],
      "metadata": {
        "colab": {
          "base_uri": "https://localhost:8080/"
        },
        "id": "OWIhLPE9XfTL",
        "outputId": "024a4971-cb5f-4c45-9d1b-0e34d5438665"
      },
      "execution_count": 17,
      "outputs": [
        {
          "output_type": "stream",
          "name": "stdout",
          "text": [
            "Hagamos una prediccion\n",
            "1/1 [==============================] - 0s 75ms/step\n",
            "El resultado es [[211.74744]]fahrenheit\n"
          ]
        }
      ]
    },
    {
      "cell_type": "code",
      "source": [
        "print(\"Variables internas del modelo\")\n",
        "#print(capa.get_weights())\n",
        "print(oculta1.get_weights())\n",
        "print(oculta2.get_weights())\n",
        "print(salida.get_weights())"
      ],
      "metadata": {
        "colab": {
          "base_uri": "https://localhost:8080/"
        },
        "id": "FOMWDy56ECPS",
        "outputId": "54a036ee-0d1e-474f-99cf-649289316625"
      },
      "execution_count": 19,
      "outputs": [
        {
          "output_type": "stream",
          "name": "stdout",
          "text": [
            "Variables internas del modelo\n",
            "[array([[ 1.147412  , -0.19174331, -0.68709594]], dtype=float32), array([ 4.694954  , -0.05849166,  1.8284072 ], dtype=float32)]\n",
            "[array([[ 0.864999  , -1.5111785 ,  1.4299638 ],\n",
            "       [-0.26007003,  0.10474374,  0.25526524],\n",
            "       [ 0.47452915, -1.5463206 ,  0.17438412]], dtype=float32), array([-3.8298545, -5.106432 ,  3.7574885], dtype=float32)]\n",
            "[array([[-0.41796365],\n",
            "       [-1.2551472 ],\n",
            "       [ 0.8351547 ]], dtype=float32), array([4.548525], dtype=float32)]\n"
          ]
        }
      ]
    },
    {
      "cell_type": "code",
      "source": [],
      "metadata": {
        "id": "tgdlLZnwEF9X"
      },
      "execution_count": null,
      "outputs": []
    }
  ]
}